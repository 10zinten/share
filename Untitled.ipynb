{
 "cells": [
  {
   "cell_type": "markdown",
   "metadata": {},
   "source": [
    "# How to Deploy Keras Models to Production\n",
    "\n",
    "## Our demo steps\n",
    "We'll build a simple Flask app to predict the character that you've drawn in the browser!\n",
    "\n",
    "- Step 1 - Train our model with Keras\n",
    "- Step 2 - Save our model \n",
    "- Step 3 - Write our Flask backend to serve our saved model\n",
    "- Step 4 - Deploy our code to Google Cloud\n",
    "\n",
    "![alt text](http://i.imgur.com/UNHn2Xf.png \"Logo Title Text 1\")\n",
    "\n",
    "## Whats our stack look like\n",
    "\n",
    "- We use Keras with a Tensorflow backend to train a small 8 layer Convolutional Network to \n",
    "recognize handwritten character digits\n",
    "- We use Flask as our backend for serving these pretrained models. You could also use Node.js, or any number of JS web frameworks but i wouldn't want to write a complex backend in JS. I <3 python\n",
    "\n",
    "![alt text](https://image.slidesharecdn.com/flaskpython-130201154928-phpapp01/95/flask-python-10-638.jpg?cb=1359733858 \"Logo Title Text 1\")\n",
    "\n",
    "## What else is out there? Why use this?\n",
    "\n",
    "- Because doing this natively is dead simple. However, if you want GPU accelerated inference, these libraries are good options\n",
    "- Keras.js https://github.com/transcranial/keras-js Run Keras models in the browser (python backend, JS front-end) with GPU support. Only performs forward-pass inference (so no training in the browser). Uss ndarray (like js version of numpY) and weblas (GPU acceleration) to perform matrix ops\n",
    "- WebDNN https://github.com/mil-tokyo/webdnn (but converting the model to its required format requires OS X (Specifically the xcode dependency 'metal' for running GPU operations). Not everyone uses OS X! Although Francois Chollet is a fan and its also faster than this. But this has more examples.\n",
    "- NeoCortex https://github.com/scienceai/neocortex the interactive demos are pretty cool but not actively maintained"
   ]
  },
  {
   "cell_type": "code",
   "execution_count": null,
   "metadata": {
    "collapsed": true
   },
   "outputs": [],
   "source": []
  }
 ],
 "metadata": {
  "kernelspec": {
   "display_name": "Python 2",
   "language": "python",
   "name": "python2"
  },
  "language_info": {
   "codemirror_mode": {
    "name": "ipython",
    "version": 2
   },
   "file_extension": ".py",
   "mimetype": "text/x-python",
   "name": "python",
   "nbconvert_exporter": "python",
   "pygments_lexer": "ipython2",
   "version": "2.7.12"
  }
 },
 "nbformat": 4,
 "nbformat_minor": 2
}
